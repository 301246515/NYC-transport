{
 "cells": [
  {
   "cell_type": "code",
   "execution_count": 1,
   "metadata": {
    "collapsed": true
   },
   "outputs": [],
   "source": [
    "funcs = pyspark.sql.functions\n",
    "types = pyspark.sql.types"
   ]
  },
  {
   "cell_type": "code",
   "execution_count": 2,
   "metadata": {
    "collapsed": false
   },
   "outputs": [],
   "source": [
    "bike = spark.read.parquet('/data/citibike.parquet')"
   ]
  },
  {
   "cell_type": "code",
   "execution_count": 3,
   "metadata": {
    "collapsed": false
   },
   "outputs": [
    {
     "name": "stdout",
     "output_type": "stream",
     "text": [
      "+-------------+----------------+----------------+----------------+--------------------+----------------------+-----------------------+--------------+--------------------+--------------------+---------------------+-------+------------+----------+------+-----------------+---------------+\n",
      "|trip_duration|      start_time|       stop_time|start_station_id|  start_station_name|start_station_latitude|start_station_longitude|end_station_id|    end_station_name|end_station_latitude|end_station_longitude|bike_id|   user_type|birth_year|gender|start_taxizone_id|end_taxizone_id|\n",
      "+-------------+----------------+----------------+----------------+--------------------+----------------------+-----------------------+--------------+--------------------+--------------------+---------------------+-------+------------+----------+------+-----------------+---------------+\n",
      "|          801|1481563027000000|1481563829000000|            3002|\"South End Ave & ...|             40.711512|     -74.01575600000001|           346|\"Bank St & Hudson...|         40.73652889|         -74.00618026|  25788|\"Subscriber\"|    1976.0|     1|             13.0|          158.0|\n",
      "|          767|1481563031000000|1481563799000000|            3224|\"W 13 St & Hudson...|     40.73997354103409|     -74.00513872504234|           236|\"St Marks Pl & 2 ...|          40.7284186|         -73.98713956|  25773|\"Subscriber\"|    1973.0|     1|            249.0|           79.0|\n",
      "|          883|1481563034000000|1481563918000000|            3263|\"Cooper Square & ...|     40.72923649910006|     -73.99086803197861|           127|\"Barrow St & Huds...|         40.73172428|         -74.00674436|  20572|\"Subscriber\"|    1963.0|     1|             79.0|          158.0|\n",
      "|          427|1481563036000000|1481563464000000|             484|   \"W 44 St & 5 Ave\"|           40.75500254|           -73.98014437|           492|   \"W 33 St & 7 Ave\"|         40.75019995|         -73.99093085|  25620|\"Subscriber\"|    1985.0|     1|            161.0|          186.0|\n",
      "|          478|1481563039000000|1481563518000000|             519|\"Pershing Square ...|    40.751872999999996|     -73.97770600000001|           526|   \"E 33 St & 5 Ave\"|         40.74765947|         -73.98490707|  25019|\"Subscriber\"|    1974.0|     2|            170.0|          164.0|\n",
      "+-------------+----------------+----------------+----------------+--------------------+----------------------+-----------------------+--------------+--------------------+--------------------+---------------------+-------+------------+----------+------+-----------------+---------------+\n",
      "only showing top 5 rows\n",
      "\n"
     ]
    }
   ],
   "source": [
    "bike.show(5)"
   ]
  },
  {
   "cell_type": "code",
   "execution_count": 4,
   "metadata": {
    "collapsed": false
   },
   "outputs": [],
   "source": [
    "bike = (bike\n",
    "    .withColumn('start_time', \n",
    "                    funcs.from_unixtime((bike.start_time/1000000).cast(types.IntegerType()))\n",
    "                    .cast(types.TimestampType()))\n",
    "    .withColumn('stop_time', \n",
    "                    funcs.from_unixtime((bike.stop_time/1000000).cast(types.IntegerType()))\n",
    "                    .cast(types.TimestampType()))        \n",
    "#     .withColumn('start_time', \n",
    "#                 (funcs.substring(bike.start_time, 1, 20)).cast(types.TimestampType()))\n",
    "#     .withColumn('stop_time', bike.stop_time.cast(types.TimestampType())) \\\n",
    "    .withColumn('start_taxizone_id', bike.start_taxizone_id.cast(types.FloatType())) \n",
    "    .withColumn('end_taxizone_id', bike.end_taxizone_id.cast(types.FloatType())) \n",
    "        )"
   ]
  },
  {
   "cell_type": "code",
   "execution_count": 5,
   "metadata": {
    "collapsed": false
   },
   "outputs": [
    {
     "name": "stdout",
     "output_type": "stream",
     "text": [
      "+-------------+--------------------+--------------------+----------------+--------------------+----------------------+-----------------------+--------------+--------------------+--------------------+---------------------+-------+------------+----------+------+-----------------+---------------+\n",
      "|trip_duration|          start_time|           stop_time|start_station_id|  start_station_name|start_station_latitude|start_station_longitude|end_station_id|    end_station_name|end_station_latitude|end_station_longitude|bike_id|   user_type|birth_year|gender|start_taxizone_id|end_taxizone_id|\n",
      "+-------------+--------------------+--------------------+----------------+--------------------+----------------------+-----------------------+--------------+--------------------+--------------------+---------------------+-------+------------+----------+------+-----------------+---------------+\n",
      "|          801|2016-12-12 12:17:...|2016-12-12 12:30:...|            3002|\"South End Ave & ...|             40.711512|     -74.01575600000001|           346|\"Bank St & Hudson...|         40.73652889|         -74.00618026|  25788|\"Subscriber\"|    1976.0|     1|             13.0|          158.0|\n",
      "|          767|2016-12-12 12:17:...|2016-12-12 12:29:...|            3224|\"W 13 St & Hudson...|     40.73997354103409|     -74.00513872504234|           236|\"St Marks Pl & 2 ...|          40.7284186|         -73.98713956|  25773|\"Subscriber\"|    1973.0|     1|            249.0|           79.0|\n",
      "|          883|2016-12-12 12:17:...|2016-12-12 12:31:...|            3263|\"Cooper Square & ...|     40.72923649910006|     -73.99086803197861|           127|\"Barrow St & Huds...|         40.73172428|         -74.00674436|  20572|\"Subscriber\"|    1963.0|     1|             79.0|          158.0|\n",
      "|          427|2016-12-12 12:17:...|2016-12-12 12:24:...|             484|   \"W 44 St & 5 Ave\"|           40.75500254|           -73.98014437|           492|   \"W 33 St & 7 Ave\"|         40.75019995|         -73.99093085|  25620|\"Subscriber\"|    1985.0|     1|            161.0|          186.0|\n",
      "|          478|2016-12-12 12:17:...|2016-12-12 12:25:...|             519|\"Pershing Square ...|    40.751872999999996|     -73.97770600000001|           526|   \"E 33 St & 5 Ave\"|         40.74765947|         -73.98490707|  25019|\"Subscriber\"|    1974.0|     2|            170.0|          164.0|\n",
      "+-------------+--------------------+--------------------+----------------+--------------------+----------------------+-----------------------+--------------+--------------------+--------------------+---------------------+-------+------------+----------+------+-----------------+---------------+\n",
      "only showing top 5 rows\n",
      "\n"
     ]
    }
   ],
   "source": [
    "bike.show(5)"
   ]
  },
  {
   "cell_type": "code",
   "execution_count": 6,
   "metadata": {
    "collapsed": true
   },
   "outputs": [],
   "source": [
    "bike.registerTempTable('bike')"
   ]
  },
  {
   "cell_type": "code",
   "execution_count": 7,
   "metadata": {
    "collapsed": false
   },
   "outputs": [
    {
     "data": {
      "text/html": [
       "<div>\n",
       "<table border=\"1\" class=\"dataframe\">\n",
       "  <thead>\n",
       "    <tr style=\"text-align: right;\">\n",
       "      <th></th>\n",
       "      <th>trip_duration</th>\n",
       "      <th>start_time</th>\n",
       "      <th>stop_time</th>\n",
       "      <th>start_station_id</th>\n",
       "      <th>start_station_name</th>\n",
       "      <th>start_station_latitude</th>\n",
       "      <th>start_station_longitude</th>\n",
       "      <th>end_station_id</th>\n",
       "      <th>end_station_name</th>\n",
       "      <th>end_station_latitude</th>\n",
       "      <th>end_station_longitude</th>\n",
       "      <th>bike_id</th>\n",
       "      <th>user_type</th>\n",
       "      <th>birth_year</th>\n",
       "      <th>gender</th>\n",
       "      <th>start_taxizone_id</th>\n",
       "      <th>end_taxizone_id</th>\n",
       "    </tr>\n",
       "  </thead>\n",
       "  <tbody>\n",
       "    <tr>\n",
       "      <th>0</th>\n",
       "      <td>801</td>\n",
       "      <td>2016-12-12 12:17:07</td>\n",
       "      <td>2016-12-12 12:30:29</td>\n",
       "      <td>3002</td>\n",
       "      <td>\"South End Ave &amp; Liberty St\"</td>\n",
       "      <td>40.711512</td>\n",
       "      <td>-74.015756</td>\n",
       "      <td>346</td>\n",
       "      <td>\"Bank St &amp; Hudson St\"</td>\n",
       "      <td>40.736529</td>\n",
       "      <td>-74.006180</td>\n",
       "      <td>25788</td>\n",
       "      <td>\"Subscriber\"</td>\n",
       "      <td>1976.0</td>\n",
       "      <td>1</td>\n",
       "      <td>13.0</td>\n",
       "      <td>158.0</td>\n",
       "    </tr>\n",
       "    <tr>\n",
       "      <th>1</th>\n",
       "      <td>767</td>\n",
       "      <td>2016-12-12 12:17:11</td>\n",
       "      <td>2016-12-12 12:29:59</td>\n",
       "      <td>3224</td>\n",
       "      <td>\"W 13 St &amp; Hudson St\"</td>\n",
       "      <td>40.739974</td>\n",
       "      <td>-74.005139</td>\n",
       "      <td>236</td>\n",
       "      <td>\"St Marks Pl &amp; 2 Ave\"</td>\n",
       "      <td>40.728419</td>\n",
       "      <td>-73.987140</td>\n",
       "      <td>25773</td>\n",
       "      <td>\"Subscriber\"</td>\n",
       "      <td>1973.0</td>\n",
       "      <td>1</td>\n",
       "      <td>249.0</td>\n",
       "      <td>79.0</td>\n",
       "    </tr>\n",
       "    <tr>\n",
       "      <th>2</th>\n",
       "      <td>883</td>\n",
       "      <td>2016-12-12 12:17:14</td>\n",
       "      <td>2016-12-12 12:31:58</td>\n",
       "      <td>3263</td>\n",
       "      <td>\"Cooper Square &amp; E 7 St\"</td>\n",
       "      <td>40.729236</td>\n",
       "      <td>-73.990868</td>\n",
       "      <td>127</td>\n",
       "      <td>\"Barrow St &amp; Hudson St\"</td>\n",
       "      <td>40.731724</td>\n",
       "      <td>-74.006744</td>\n",
       "      <td>20572</td>\n",
       "      <td>\"Subscriber\"</td>\n",
       "      <td>1963.0</td>\n",
       "      <td>1</td>\n",
       "      <td>79.0</td>\n",
       "      <td>158.0</td>\n",
       "    </tr>\n",
       "    <tr>\n",
       "      <th>3</th>\n",
       "      <td>427</td>\n",
       "      <td>2016-12-12 12:17:16</td>\n",
       "      <td>2016-12-12 12:24:24</td>\n",
       "      <td>484</td>\n",
       "      <td>\"W 44 St &amp; 5 Ave\"</td>\n",
       "      <td>40.755003</td>\n",
       "      <td>-73.980144</td>\n",
       "      <td>492</td>\n",
       "      <td>\"W 33 St &amp; 7 Ave\"</td>\n",
       "      <td>40.750200</td>\n",
       "      <td>-73.990931</td>\n",
       "      <td>25620</td>\n",
       "      <td>\"Subscriber\"</td>\n",
       "      <td>1985.0</td>\n",
       "      <td>1</td>\n",
       "      <td>161.0</td>\n",
       "      <td>186.0</td>\n",
       "    </tr>\n",
       "    <tr>\n",
       "      <th>4</th>\n",
       "      <td>478</td>\n",
       "      <td>2016-12-12 12:17:19</td>\n",
       "      <td>2016-12-12 12:25:18</td>\n",
       "      <td>519</td>\n",
       "      <td>\"Pershing Square North\"</td>\n",
       "      <td>40.751873</td>\n",
       "      <td>-73.977706</td>\n",
       "      <td>526</td>\n",
       "      <td>\"E 33 St &amp; 5 Ave\"</td>\n",
       "      <td>40.747659</td>\n",
       "      <td>-73.984907</td>\n",
       "      <td>25019</td>\n",
       "      <td>\"Subscriber\"</td>\n",
       "      <td>1974.0</td>\n",
       "      <td>2</td>\n",
       "      <td>170.0</td>\n",
       "      <td>164.0</td>\n",
       "    </tr>\n",
       "    <tr>\n",
       "      <th>5</th>\n",
       "      <td>662</td>\n",
       "      <td>2016-12-12 12:17:20</td>\n",
       "      <td>2016-12-12 12:28:22</td>\n",
       "      <td>3140</td>\n",
       "      <td>\"1 Ave &amp; E 78 St\"</td>\n",
       "      <td>40.771404</td>\n",
       "      <td>-73.953517</td>\n",
       "      <td>3294</td>\n",
       "      <td>\"E 91 St &amp; Park Ave\"</td>\n",
       "      <td>40.783502</td>\n",
       "      <td>-73.955327</td>\n",
       "      <td>16099</td>\n",
       "      <td>\"Subscriber\"</td>\n",
       "      <td>1969.0</td>\n",
       "      <td>1</td>\n",
       "      <td>141.0</td>\n",
       "      <td>236.0</td>\n",
       "    </tr>\n",
       "    <tr>\n",
       "      <th>6</th>\n",
       "      <td>1366</td>\n",
       "      <td>2016-12-12 12:17:20</td>\n",
       "      <td>2016-12-12 12:40:07</td>\n",
       "      <td>427</td>\n",
       "      <td>\"Bus Slip &amp; State St\"</td>\n",
       "      <td>40.701907</td>\n",
       "      <td>-74.013942</td>\n",
       "      <td>514</td>\n",
       "      <td>\"12 Ave &amp; W 40 St\"</td>\n",
       "      <td>40.760875</td>\n",
       "      <td>-74.002777</td>\n",
       "      <td>23359</td>\n",
       "      <td>\"Subscriber\"</td>\n",
       "      <td>1977.0</td>\n",
       "      <td>1</td>\n",
       "      <td>12.0</td>\n",
       "      <td>246.0</td>\n",
       "    </tr>\n",
       "    <tr>\n",
       "      <th>7</th>\n",
       "      <td>609</td>\n",
       "      <td>2016-12-12 12:17:23</td>\n",
       "      <td>2016-12-12 12:27:33</td>\n",
       "      <td>519</td>\n",
       "      <td>\"Pershing Square North\"</td>\n",
       "      <td>40.751873</td>\n",
       "      <td>-73.977706</td>\n",
       "      <td>2003</td>\n",
       "      <td>\"1 Ave &amp; E 18 St\"</td>\n",
       "      <td>40.733812</td>\n",
       "      <td>-73.980544</td>\n",
       "      <td>22003</td>\n",
       "      <td>\"Subscriber\"</td>\n",
       "      <td>1992.0</td>\n",
       "      <td>1</td>\n",
       "      <td>170.0</td>\n",
       "      <td>224.0</td>\n",
       "    </tr>\n",
       "    <tr>\n",
       "      <th>8</th>\n",
       "      <td>1009</td>\n",
       "      <td>2016-12-12 12:17:21</td>\n",
       "      <td>2016-12-12 12:34:11</td>\n",
       "      <td>323</td>\n",
       "      <td>\"Lawrence St &amp; Willoughby St\"</td>\n",
       "      <td>40.692362</td>\n",
       "      <td>-73.986317</td>\n",
       "      <td>531</td>\n",
       "      <td>\"Forsyth St &amp; Broome St\"</td>\n",
       "      <td>40.718939</td>\n",
       "      <td>-73.992663</td>\n",
       "      <td>22674</td>\n",
       "      <td>\"Subscriber\"</td>\n",
       "      <td>1973.0</td>\n",
       "      <td>2</td>\n",
       "      <td>65.0</td>\n",
       "      <td>148.0</td>\n",
       "    </tr>\n",
       "    <tr>\n",
       "      <th>9</th>\n",
       "      <td>1018</td>\n",
       "      <td>2016-12-12 12:17:22</td>\n",
       "      <td>2016-12-12 12:34:21</td>\n",
       "      <td>3260</td>\n",
       "      <td>\"Mercer St &amp; Bleecker St\"</td>\n",
       "      <td>40.727064</td>\n",
       "      <td>-73.996621</td>\n",
       "      <td>296</td>\n",
       "      <td>\"Division St &amp; Bowery\"</td>\n",
       "      <td>40.714131</td>\n",
       "      <td>-73.997047</td>\n",
       "      <td>25510</td>\n",
       "      <td>\"Subscriber\"</td>\n",
       "      <td>1970.0</td>\n",
       "      <td>1</td>\n",
       "      <td>114.0</td>\n",
       "      <td>148.0</td>\n",
       "    </tr>\n",
       "  </tbody>\n",
       "</table>\n",
       "</div>"
      ],
      "text/plain": [
       "   trip_duration          start_time           stop_time  start_station_id  \\\n",
       "0            801 2016-12-12 12:17:07 2016-12-12 12:30:29              3002   \n",
       "1            767 2016-12-12 12:17:11 2016-12-12 12:29:59              3224   \n",
       "2            883 2016-12-12 12:17:14 2016-12-12 12:31:58              3263   \n",
       "3            427 2016-12-12 12:17:16 2016-12-12 12:24:24               484   \n",
       "4            478 2016-12-12 12:17:19 2016-12-12 12:25:18               519   \n",
       "5            662 2016-12-12 12:17:20 2016-12-12 12:28:22              3140   \n",
       "6           1366 2016-12-12 12:17:20 2016-12-12 12:40:07               427   \n",
       "7            609 2016-12-12 12:17:23 2016-12-12 12:27:33               519   \n",
       "8           1009 2016-12-12 12:17:21 2016-12-12 12:34:11               323   \n",
       "9           1018 2016-12-12 12:17:22 2016-12-12 12:34:21              3260   \n",
       "\n",
       "              start_station_name  start_station_latitude  \\\n",
       "0   \"South End Ave & Liberty St\"               40.711512   \n",
       "1          \"W 13 St & Hudson St\"               40.739974   \n",
       "2       \"Cooper Square & E 7 St\"               40.729236   \n",
       "3              \"W 44 St & 5 Ave\"               40.755003   \n",
       "4        \"Pershing Square North\"               40.751873   \n",
       "5              \"1 Ave & E 78 St\"               40.771404   \n",
       "6          \"Bus Slip & State St\"               40.701907   \n",
       "7        \"Pershing Square North\"               40.751873   \n",
       "8  \"Lawrence St & Willoughby St\"               40.692362   \n",
       "9      \"Mercer St & Bleecker St\"               40.727064   \n",
       "\n",
       "   start_station_longitude  end_station_id          end_station_name  \\\n",
       "0               -74.015756             346     \"Bank St & Hudson St\"   \n",
       "1               -74.005139             236     \"St Marks Pl & 2 Ave\"   \n",
       "2               -73.990868             127   \"Barrow St & Hudson St\"   \n",
       "3               -73.980144             492         \"W 33 St & 7 Ave\"   \n",
       "4               -73.977706             526         \"E 33 St & 5 Ave\"   \n",
       "5               -73.953517            3294      \"E 91 St & Park Ave\"   \n",
       "6               -74.013942             514        \"12 Ave & W 40 St\"   \n",
       "7               -73.977706            2003         \"1 Ave & E 18 St\"   \n",
       "8               -73.986317             531  \"Forsyth St & Broome St\"   \n",
       "9               -73.996621             296    \"Division St & Bowery\"   \n",
       "\n",
       "   end_station_latitude  end_station_longitude  bike_id     user_type  \\\n",
       "0             40.736529             -74.006180    25788  \"Subscriber\"   \n",
       "1             40.728419             -73.987140    25773  \"Subscriber\"   \n",
       "2             40.731724             -74.006744    20572  \"Subscriber\"   \n",
       "3             40.750200             -73.990931    25620  \"Subscriber\"   \n",
       "4             40.747659             -73.984907    25019  \"Subscriber\"   \n",
       "5             40.783502             -73.955327    16099  \"Subscriber\"   \n",
       "6             40.760875             -74.002777    23359  \"Subscriber\"   \n",
       "7             40.733812             -73.980544    22003  \"Subscriber\"   \n",
       "8             40.718939             -73.992663    22674  \"Subscriber\"   \n",
       "9             40.714131             -73.997047    25510  \"Subscriber\"   \n",
       "\n",
       "   birth_year  gender  start_taxizone_id  end_taxizone_id  \n",
       "0      1976.0       1               13.0            158.0  \n",
       "1      1973.0       1              249.0             79.0  \n",
       "2      1963.0       1               79.0            158.0  \n",
       "3      1985.0       1              161.0            186.0  \n",
       "4      1974.0       2              170.0            164.0  \n",
       "5      1969.0       1              141.0            236.0  \n",
       "6      1977.0       1               12.0            246.0  \n",
       "7      1992.0       1              170.0            224.0  \n",
       "8      1973.0       2               65.0            148.0  \n",
       "9      1970.0       1              114.0            148.0  "
      ]
     },
     "execution_count": 7,
     "metadata": {},
     "output_type": "execute_result"
    }
   ],
   "source": [
    "spark.sql('select * from bike LIMIT 10').toPandas()"
   ]
  },
  {
   "cell_type": "code",
   "execution_count": 8,
   "metadata": {
    "collapsed": false
   },
   "outputs": [],
   "source": [
    "bike.sort('start_time').repartition(32, 'start_station_id').sortWithinPartitions('start_station_id', 'start_time') \\\n",
    "    .write.parquet('/data/citibike_spark.parquet', compression='snappy', mode='overwrite')"
   ]
  },
  {
   "cell_type": "code",
   "execution_count": null,
   "metadata": {
    "collapsed": true
   },
   "outputs": [],
   "source": []
  },
  {
   "cell_type": "code",
   "execution_count": 9,
   "metadata": {
    "collapsed": false
   },
   "outputs": [],
   "source": [
    "subway = spark.read.parquet('/data/subway.parquet')"
   ]
  },
  {
   "cell_type": "code",
   "execution_count": 10,
   "metadata": {
    "collapsed": false
   },
   "outputs": [
    {
     "name": "stdout",
     "output_type": "stream",
     "text": [
      "+------+------+----------+-------+--------+--------+----------------+-----------+-------------+-----------+\n",
      "|    ca|  unit|       scp|station|linename|division|         endtime|description|cumul_entries|cumul_exits|\n",
      "+------+------+----------+-------+--------+--------+----------------+-----------+-------------+-----------+\n",
      "|\"A002\"|\"R051\"|\"02-00-00\"| \"NULL\"|  \"NULL\"|  \"NULL\"|1356145200000000|  \"REGULAR\"|      3922274|    1352720|\n",
      "|\"A002\"|\"R051\"|\"02-00-00\"| \"NULL\"|  \"NULL\"|  \"NULL\"|1356159600000000|  \"REGULAR\"|      3922288|    1352730|\n",
      "|\"A002\"|\"R051\"|\"02-00-00\"| \"NULL\"|  \"NULL\"|  \"NULL\"|1356174000000000|  \"REGULAR\"|      3922352|    1352824|\n",
      "|\"A002\"|\"R051\"|\"02-00-00\"| \"NULL\"|  \"NULL\"|  \"NULL\"|1356188400000000|  \"REGULAR\"|      3922544|    1352881|\n",
      "|\"A002\"|\"R051\"|\"02-00-00\"| \"NULL\"|  \"NULL\"|  \"NULL\"|1356202800000000|  \"REGULAR\"|      3922944|    1352967|\n",
      "+------+------+----------+-------+--------+--------+----------------+-----------+-------------+-----------+\n",
      "only showing top 5 rows\n",
      "\n"
     ]
    }
   ],
   "source": [
    "subway.show(5)"
   ]
  },
  {
   "cell_type": "code",
   "execution_count": 11,
   "metadata": {
    "collapsed": true
   },
   "outputs": [],
   "source": [
    "subway = \\\n",
    "    subway.withColumn('endtime', funcs.from_unixtime((subway.endtime/1000000).cast(types.IntegerType())) \\\n",
    "                      .cast(types.TimestampType()))"
   ]
  },
  {
   "cell_type": "code",
   "execution_count": 12,
   "metadata": {
    "collapsed": false
   },
   "outputs": [
    {
     "name": "stdout",
     "output_type": "stream",
     "text": [
      "+------+------+----------+-------+--------+--------+--------------------+-----------+-------------+-----------+\n",
      "|    ca|  unit|       scp|station|linename|division|             endtime|description|cumul_entries|cumul_exits|\n",
      "+------+------+----------+-------+--------+--------+--------------------+-----------+-------------+-----------+\n",
      "|\"A002\"|\"R051\"|\"02-00-00\"| \"NULL\"|  \"NULL\"|  \"NULL\"|2012-12-21 22:00:...|  \"REGULAR\"|      3922274|    1352720|\n",
      "|\"A002\"|\"R051\"|\"02-00-00\"| \"NULL\"|  \"NULL\"|  \"NULL\"|2012-12-22 02:00:...|  \"REGULAR\"|      3922288|    1352730|\n",
      "|\"A002\"|\"R051\"|\"02-00-00\"| \"NULL\"|  \"NULL\"|  \"NULL\"|2012-12-22 06:00:...|  \"REGULAR\"|      3922352|    1352824|\n",
      "|\"A002\"|\"R051\"|\"02-00-00\"| \"NULL\"|  \"NULL\"|  \"NULL\"|2012-12-22 10:00:...|  \"REGULAR\"|      3922544|    1352881|\n",
      "|\"A002\"|\"R051\"|\"02-00-00\"| \"NULL\"|  \"NULL\"|  \"NULL\"|2012-12-22 14:00:...|  \"REGULAR\"|      3922944|    1352967|\n",
      "+------+------+----------+-------+--------+--------+--------------------+-----------+-------------+-----------+\n",
      "only showing top 5 rows\n",
      "\n"
     ]
    }
   ],
   "source": [
    "subway.show(5)"
   ]
  },
  {
   "cell_type": "code",
   "execution_count": 13,
   "metadata": {
    "collapsed": true
   },
   "outputs": [],
   "source": [
    "subway = subway.repartition(32, 'ca', 'unit', 'scp').sortWithinPartitions('ca', 'unit', 'scp', 'endtime')\n",
    "subway.write.parquet('/data/subway_spark.parquet', compression='snappy', mode='overwrite')"
   ]
  },
  {
   "cell_type": "code",
   "execution_count": null,
   "metadata": {
    "collapsed": true
   },
   "outputs": [],
   "source": []
  },
  {
   "cell_type": "code",
   "execution_count": 14,
   "metadata": {
    "collapsed": true
   },
   "outputs": [],
   "source": [
    "taxi = spark.read.parquet('/data/all_trips_unprocessed.parquet')"
   ]
  },
  {
   "cell_type": "code",
   "execution_count": 15,
   "metadata": {
    "collapsed": false,
    "scrolled": false
   },
   "outputs": [
    {
     "name": "stdout",
     "output_type": "stream",
     "text": [
      "+----------------+----------------+------------------+-------------------+---------+-----+-----------+---------------------+-------+---------------+------------+----------------+---------------+----------------+------------------+------------+------------------+----------+------------+------------+-------------+---------+---------+\n",
      "|dropoff_datetime|dropoff_latitude| dropoff_longitude|dropoff_taxizone_id|ehail_fee|extra|fare_amount|improvement_surcharge|mta_tax|passenger_count|payment_type| pickup_datetime|pickup_latitude|pickup_longitude|pickup_taxizone_id|rate_code_id|store_and_fwd_flag|tip_amount|tolls_amount|total_amount|trip_distance|trip_type|vendor_id|\n",
      "+----------------+----------------+------------------+-------------------+---------+-----+-----------+---------------------+-------+---------------+------------+----------------+---------------+----------------+------------------+------------+------------------+----------+------------+------------+-------------+---------+---------+\n",
      "|1375875971000000|       40.760358|        -73.979579|              161.0|     null|  0.0|       12.0|                 null|    0.5|            \"1\"|       \"CRD\"|1375874830000000|      40.750224|      -73.973157|             233.0|         \"1\"|               \"Y\"|       2.5|         0.0|        15.0|          1.0| \"yellow\"|    \"CMT\"|\n",
      "|1375878151000000|       40.765609|        -73.983644|              163.0|     null|  0.0|       11.0|                 null|    0.5|            \"1\"|       \"CRD\"|1375877150000000|      40.751353|      -73.990575|             100.0|         \"1\"|               \"Y\"|       2.3|         0.0|        13.8|          1.0| \"yellow\"|    \"CMT\"|\n",
      "|1375880251000000|       40.783252|-73.95918399999998|               43.0|     null|  0.0|       13.5|                 null|    0.5|            \"1\"|       \"CRD\"|1375879237000000|      40.768194|      -73.982234|             142.0|         \"1\"|               \"Y\"|       3.5|         0.0|        17.5|          2.0| \"yellow\"|    \"CMT\"|\n",
      "|1375883463000000|       40.768841|-73.96531199999998|              237.0|     null|  0.0|        9.5|                 null|    0.5|            \"1\"|       \"CRD\"|1375882675000000|      40.768197|       -73.98202|             142.0|         \"1\"|               \"Y\"|       2.0|         0.0|        12.0|          1.0| \"yellow\"|    \"CMT\"|\n",
      "|1375884937000000|       40.705358|-74.00698199999998|               87.0|     null|  0.0|       13.5|                 null|    0.5|            \"1\"|       \"CRD\"|1375884403000000|      40.743349|      -73.972323|             233.0|         \"1\"|               \"Y\"|       2.8|         0.0|        16.8|          4.0| \"yellow\"|    \"CMT\"|\n",
      "+----------------+----------------+------------------+-------------------+---------+-----+-----------+---------------------+-------+---------------+------------+----------------+---------------+----------------+------------------+------------+------------------+----------+------------+------------+-------------+---------+---------+\n",
      "only showing top 5 rows\n",
      "\n"
     ]
    }
   ],
   "source": [
    "taxi.show(5)"
   ]
  },
  {
   "cell_type": "code",
   "execution_count": 16,
   "metadata": {
    "collapsed": false
   },
   "outputs": [],
   "source": [
    "taxi = (\n",
    "    taxi.withColumn('dropoff_datetime', \n",
    "                    funcs.from_unixtime((taxi.dropoff_datetime/1000000).cast(types.IntegerType()))\n",
    "                    .cast(types.TimestampType())) \\\n",
    "    .withColumn('pickup_datetime', \n",
    "                    funcs.from_unixtime((taxi.pickup_datetime/1000000).cast(types.IntegerType()))\n",
    "                .cast(types.TimestampType())) \\\n",
    "    .withColumn('dropoff_taxizone_id', taxi.dropoff_taxizone_id.cast(types.IntegerType())) \\\n",
    "    .withColumn('pickup_taxizone_id', taxi.pickup_taxizone_id.cast(types.IntegerType())) \\\n",
    "    .withColumn('dropoff_latitude', taxi.dropoff_latitude.cast(types.FloatType())) \\\n",
    "    .withColumn('dropoff_longitude', taxi.dropoff_longitude.cast(types.FloatType())) \\\n",
    "    .withColumn('ehail_fee', taxi.ehail_fee.cast(types.FloatType())) \\\n",
    "    .withColumn('extra', taxi.extra.cast(types.FloatType())) \\\n",
    "    .withColumn('fare_amount', taxi.fare_amount.cast(types.FloatType())) \\\n",
    "    .withColumn('improvement_surcharge', taxi.improvement_surcharge.cast(types.FloatType())) \\\n",
    "    .withColumn('mta_tax', taxi.mta_tax.cast(types.FloatType())) \\\n",
    "    .withColumn('pickup_latitude', taxi.pickup_latitude.cast(types.FloatType())) \\\n",
    "    .withColumn('pickup_longitude', taxi.pickup_longitude.cast(types.FloatType())) \\\n",
    "    .withColumn('tip_amount', taxi.tip_amount.cast(types.FloatType())) \\\n",
    "    .withColumn('tolls_amount', taxi.tolls_amount.cast(types.FloatType())) \\\n",
    "    .withColumn('total_amount', taxi.total_amount.cast(types.FloatType())) \\\n",
    "    .withColumn('trip_distance', taxi.trip_distance.cast(types.FloatType())) \\\n",
    "    .withColumn('passenger_count', taxi.passenger_count.cast(types.IntegerType())) \\\n",
    "    .withColumn('rate_code_id', taxi.rate_code_id.cast(types.IntegerType())) \\\n",
    "    .withColumn('trip_id', funcs.monotonically_increasing_id())\n",
    "    )"
   ]
  },
  {
   "cell_type": "code",
   "execution_count": 17,
   "metadata": {
    "collapsed": false,
    "scrolled": false
   },
   "outputs": [
    {
     "name": "stdout",
     "output_type": "stream",
     "text": [
      "+--------------------+----------------+-----------------+-------------------+---------+-----+-----------+---------------------+-------+---------------+------------+--------------------+---------------+----------------+------------------+------------+------------------+----------+------------+------------+-------------+---------+---------+-------+\n",
      "|    dropoff_datetime|dropoff_latitude|dropoff_longitude|dropoff_taxizone_id|ehail_fee|extra|fare_amount|improvement_surcharge|mta_tax|passenger_count|payment_type|     pickup_datetime|pickup_latitude|pickup_longitude|pickup_taxizone_id|rate_code_id|store_and_fwd_flag|tip_amount|tolls_amount|total_amount|trip_distance|trip_type|vendor_id|trip_id|\n",
      "+--------------------+----------------+-----------------+-------------------+---------+-----+-----------+---------------------+-------+---------------+------------+--------------------+---------------+----------------+------------------+------------+------------------+----------+------------+------------+-------------+---------+---------+-------+\n",
      "|2013-08-07 07:46:...|       40.760357|       -73.979576|                161|     null|  0.0|       12.0|                 null|    0.5|           null|       \"CRD\"|2013-08-07 07:27:...|      40.750225|       -73.97316|               233|        null|               \"Y\"|       2.5|         0.0|        15.0|          1.0| \"yellow\"|    \"CMT\"|      0|\n",
      "|2013-08-07 08:22:...|        40.76561|        -73.98364|                163|     null|  0.0|       11.0|                 null|    0.5|           null|       \"CRD\"|2013-08-07 08:05:...|      40.751354|       -73.99058|               100|        null|               \"Y\"|       2.3|         0.0|        13.8|          1.0| \"yellow\"|    \"CMT\"|      1|\n",
      "|2013-08-07 08:57:...|       40.783253|        -73.95918|                 43|     null|  0.0|       13.5|                 null|    0.5|           null|       \"CRD\"|2013-08-07 08:40:...|      40.768192|       -73.98223|               142|        null|               \"Y\"|       3.5|         0.0|        17.5|          2.0| \"yellow\"|    \"CMT\"|      2|\n",
      "|2013-08-07 09:51:...|        40.76884|        -73.96531|                237|     null|  0.0|        9.5|                 null|    0.5|           null|       \"CRD\"|2013-08-07 09:37:...|      40.768196|       -73.98202|               142|        null|               \"Y\"|       2.0|         0.0|        12.0|          1.0| \"yellow\"|    \"CMT\"|      3|\n",
      "|2013-08-07 10:15:...|       40.705357|        -74.00698|                 87|     null|  0.0|       13.5|                 null|    0.5|           null|       \"CRD\"|2013-08-07 10:06:...|      40.743347|       -73.97232|               233|        null|               \"Y\"|       2.8|         0.0|        16.8|          4.0| \"yellow\"|    \"CMT\"|      4|\n",
      "+--------------------+----------------+-----------------+-------------------+---------+-----+-----------+---------------------+-------+---------------+------------+--------------------+---------------+----------------+------------------+------------+------------------+----------+------------+------------+-------------+---------+---------+-------+\n",
      "only showing top 5 rows\n",
      "\n"
     ]
    }
   ],
   "source": [
    "taxi.show(5)"
   ]
  },
  {
   "cell_type": "code",
   "execution_count": 18,
   "metadata": {
    "collapsed": false
   },
   "outputs": [],
   "source": [
    "taxi.sort('pickup_datetime').repartition(401, 'pickup_datetime') \\\n",
    "    .sortWithinPartitions('pickup_taxizone_id') \\\n",
    "    .write \\\n",
    "    .parquet('/data/all_trips_spark.parquet', compression='snappy', mode='overwrite')"
   ]
  },
  {
   "cell_type": "code",
   "execution_count": null,
   "metadata": {
    "collapsed": true
   },
   "outputs": [],
   "source": []
  }
 ],
 "metadata": {
  "anaconda-cloud": {},
  "kernelspec": {
   "display_name": "Python [default]",
   "language": "python",
   "name": "python3"
  },
  "language_info": {
   "codemirror_mode": {
    "name": "ipython",
    "version": 3
   },
   "file_extension": ".py",
   "mimetype": "text/x-python",
   "name": "python",
   "nbconvert_exporter": "python",
   "pygments_lexer": "ipython3",
   "version": "3.5.2"
  }
 },
 "nbformat": 4,
 "nbformat_minor": 1
}
