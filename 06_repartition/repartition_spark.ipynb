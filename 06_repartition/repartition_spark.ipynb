{
 "cells": [
  {
   "cell_type": "code",
   "execution_count": 4,
   "metadata": {
    "collapsed": true
   },
   "outputs": [],
   "source": [
    "funcs = pyspark.sql.functions\n",
    "types = pyspark.sql.types"
   ]
  },
  {
   "cell_type": "code",
   "execution_count": 2,
   "metadata": {
    "collapsed": true
   },
   "outputs": [],
   "source": [
    "bike = spark.read.parquet('/bigdata/citibike.parquet')"
   ]
  },
  {
   "cell_type": "code",
   "execution_count": 3,
   "metadata": {
    "collapsed": false
   },
   "outputs": [
    {
     "name": "stdout",
     "output_type": "stream",
     "text": [
      "+-------------+----------------+----------------+----------------+--------------------+----------------------+-----------------------+--------------+--------------------+--------------------+---------------------+-------+------------+----------+------+-----------------+---------------+-----------+---------+\n",
      "|trip_duration|      start_time|       stop_time|start_station_id|  start_station_name|start_station_latitude|start_station_longitude|end_station_id|    end_station_name|end_station_latitude|end_station_longitude|bike_id|   user_type|birth_year|gender|start_taxizone_id|end_taxizone_id|start_ct_id|end_ct_id|\n",
      "+-------------+----------------+----------------+----------------+--------------------+----------------------+-----------------------+--------------+--------------------+--------------------+---------------------+-------+------------+----------+------+-----------------+---------------+-----------+---------+\n",
      "|          801|1481563027000000|1481563829000000|            3002|\"South End Ave & ...|             40.711514|             -74.015755|           346|\"Bank St & Hudson...|            40.73653|            -74.00618|  25788|\"Subscriber\"|    1976.0|     1|             13.0|          158.0|     2102.0|   1359.0|\n",
      "|          767|1481563031000000|1481563799000000|            3224|\"W 13 St & Hudson...|             40.739975|              -74.00514|           236|\"St Marks Pl & 2 ...|            40.72842|            -73.98714|  25773|\"Subscriber\"|    1973.0|     1|            249.0|           79.0|     1358.0|   1470.0|\n",
      "|          883|1481563034000000|1481563918000000|            3263|\"Cooper Square & ...|             40.729237|              -73.99087|           127|\"Barrow St & Huds...|           40.731724|           -74.006744|  20572|\"Subscriber\"|    1963.0|     1|             79.0|          158.0|      968.0|   1429.0|\n",
      "|          427|1481563036000000|1481563464000000|             484|   \"W 44 St & 5 Ave\"|                40.755|              -73.98014|           492|   \"W 33 St & 7 Ave\"|             40.7502|            -73.99093|  25620|\"Subscriber\"|    1985.0|     1|            161.0|          186.0|       13.0|    899.0|\n",
      "|          478|1481563039000000|1481563518000000|             519|\"Pershing Square ...|             40.751873|              -73.97771|           526|   \"E 33 St & 5 Ave\"|           40.747658|            -73.98491|  25019|\"Subscriber\"|    1974.0|     2|            170.0|          164.0|     1413.0|   1667.0|\n",
      "+-------------+----------------+----------------+----------------+--------------------+----------------------+-----------------------+--------------+--------------------+--------------------+---------------------+-------+------------+----------+------+-----------------+---------------+-----------+---------+\n",
      "only showing top 5 rows\n",
      "\n"
     ]
    }
   ],
   "source": [
    "bike.show(5)"
   ]
  },
  {
   "cell_type": "code",
   "execution_count": 4,
   "metadata": {
    "collapsed": false
   },
   "outputs": [],
   "source": [
    "bike = \\\n",
    "    bike.withColumn('start_time', funcs.from_unixtime((bike.start_time/1000000).cast(types.IntegerType()))).withColumn(\n",
    "                    'stop_time', funcs.from_unixtime((bike.stop_time/1000000).cast(types.IntegerType())))"
   ]
  },
  {
   "cell_type": "code",
   "execution_count": 5,
   "metadata": {
    "collapsed": false
   },
   "outputs": [
    {
     "name": "stdout",
     "output_type": "stream",
     "text": [
      "+-------------+-------------------+-------------------+----------------+--------------------+----------------------+-----------------------+--------------+--------------------+--------------------+---------------------+-------+------------+----------+------+-----------------+---------------+-----------+---------+\n",
      "|trip_duration|         start_time|          stop_time|start_station_id|  start_station_name|start_station_latitude|start_station_longitude|end_station_id|    end_station_name|end_station_latitude|end_station_longitude|bike_id|   user_type|birth_year|gender|start_taxizone_id|end_taxizone_id|start_ct_id|end_ct_id|\n",
      "+-------------+-------------------+-------------------+----------------+--------------------+----------------------+-----------------------+--------------+--------------------+--------------------+---------------------+-------+------------+----------+------+-----------------+---------------+-----------+---------+\n",
      "|          801|2016-12-12 12:17:07|2016-12-12 12:30:29|            3002|\"South End Ave & ...|             40.711514|             -74.015755|           346|\"Bank St & Hudson...|            40.73653|            -74.00618|  25788|\"Subscriber\"|    1976.0|     1|             13.0|          158.0|     2102.0|   1359.0|\n",
      "|          767|2016-12-12 12:17:11|2016-12-12 12:29:59|            3224|\"W 13 St & Hudson...|             40.739975|              -74.00514|           236|\"St Marks Pl & 2 ...|            40.72842|            -73.98714|  25773|\"Subscriber\"|    1973.0|     1|            249.0|           79.0|     1358.0|   1470.0|\n",
      "|          883|2016-12-12 12:17:14|2016-12-12 12:31:58|            3263|\"Cooper Square & ...|             40.729237|              -73.99087|           127|\"Barrow St & Huds...|           40.731724|           -74.006744|  20572|\"Subscriber\"|    1963.0|     1|             79.0|          158.0|      968.0|   1429.0|\n",
      "|          427|2016-12-12 12:17:16|2016-12-12 12:24:24|             484|   \"W 44 St & 5 Ave\"|                40.755|              -73.98014|           492|   \"W 33 St & 7 Ave\"|             40.7502|            -73.99093|  25620|\"Subscriber\"|    1985.0|     1|            161.0|          186.0|       13.0|    899.0|\n",
      "|          478|2016-12-12 12:17:19|2016-12-12 12:25:18|             519|\"Pershing Square ...|             40.751873|              -73.97771|           526|   \"E 33 St & 5 Ave\"|           40.747658|            -73.98491|  25019|\"Subscriber\"|    1974.0|     2|            170.0|          164.0|     1413.0|   1667.0|\n",
      "+-------------+-------------------+-------------------+----------------+--------------------+----------------------+-----------------------+--------------+--------------------+--------------------+---------------------+-------+------------+----------+------+-----------------+---------------+-----------+---------+\n",
      "only showing top 5 rows\n",
      "\n"
     ]
    }
   ],
   "source": [
    "bike.show(5)"
   ]
  },
  {
   "cell_type": "code",
   "execution_count": 6,
   "metadata": {
    "collapsed": false
   },
   "outputs": [],
   "source": [
    "bike.repartition(32, 'start_station_id').sortWithinPartitions('start_station_id', 'start_time') \\\n",
    "    .write.parquet('/data/citibike_repartitioned.parquet', compression='snappy', mode='overwrite')"
   ]
  },
  {
   "cell_type": "code",
   "execution_count": null,
   "metadata": {
    "collapsed": true
   },
   "outputs": [],
   "source": []
  },
  {
   "cell_type": "code",
   "execution_count": 7,
   "metadata": {
    "collapsed": true
   },
   "outputs": [],
   "source": [
    "subway = spark.read.parquet('/bigdata/subway.parquet')"
   ]
  },
  {
   "cell_type": "code",
   "execution_count": 8,
   "metadata": {
    "collapsed": false
   },
   "outputs": [
    {
     "name": "stdout",
     "output_type": "stream",
     "text": [
      "+------+------+----------+-------+--------+--------+----------------+-----------+-------------+-----------+\n",
      "|    ca|  unit|       scp|station|linename|division|         endtime|description|cumul_entries|cumul_exits|\n",
      "+------+------+----------+-------+--------+--------+----------------+-----------+-------------+-----------+\n",
      "|\"A002\"|\"R051\"|\"02-00-00\"| \"NULL\"|  \"NULL\"|  \"NULL\"|1403913600000000|  \"REGULAR\"|      4679542|    1591173|\n",
      "|\"A002\"|\"R051\"|\"02-00-00\"| \"NULL\"|  \"NULL\"|  \"NULL\"|1403928000000000|  \"REGULAR\"|      4679583|    1591180|\n",
      "|\"A002\"|\"R051\"|\"02-00-00\"| \"NULL\"|  \"NULL\"|  \"NULL\"|1403942400000000|  \"REGULAR\"|      4679603|    1591196|\n",
      "|\"A002\"|\"R051\"|\"02-00-00\"| \"NULL\"|  \"NULL\"|  \"NULL\"|1403956800000000|  \"REGULAR\"|      4679707|    1591296|\n",
      "|\"A002\"|\"R051\"|\"02-00-00\"| \"NULL\"|  \"NULL\"|  \"NULL\"|1403971200000000|  \"REGULAR\"|      4680003|    1591342|\n",
      "+------+------+----------+-------+--------+--------+----------------+-----------+-------------+-----------+\n",
      "only showing top 5 rows\n",
      "\n"
     ]
    }
   ],
   "source": [
    "subway.show(5)"
   ]
  },
  {
   "cell_type": "code",
   "execution_count": 9,
   "metadata": {
    "collapsed": true
   },
   "outputs": [],
   "source": [
    "subway = \\\n",
    "    subway.withColumn('endtime', funcs.from_unixtime((subway.endtime/1000000).cast(types.IntegerType())))"
   ]
  },
  {
   "cell_type": "code",
   "execution_count": 10,
   "metadata": {
    "collapsed": false
   },
   "outputs": [
    {
     "name": "stdout",
     "output_type": "stream",
     "text": [
      "+------+------+----------+-------+--------+--------+-------------------+-----------+-------------+-----------+\n",
      "|    ca|  unit|       scp|station|linename|division|            endtime|description|cumul_entries|cumul_exits|\n",
      "+------+------+----------+-------+--------+--------+-------------------+-----------+-------------+-----------+\n",
      "|\"A002\"|\"R051\"|\"02-00-00\"| \"NULL\"|  \"NULL\"|  \"NULL\"|2014-06-27 20:00:00|  \"REGULAR\"|      4679542|    1591173|\n",
      "|\"A002\"|\"R051\"|\"02-00-00\"| \"NULL\"|  \"NULL\"|  \"NULL\"|2014-06-28 00:00:00|  \"REGULAR\"|      4679583|    1591180|\n",
      "|\"A002\"|\"R051\"|\"02-00-00\"| \"NULL\"|  \"NULL\"|  \"NULL\"|2014-06-28 04:00:00|  \"REGULAR\"|      4679603|    1591196|\n",
      "|\"A002\"|\"R051\"|\"02-00-00\"| \"NULL\"|  \"NULL\"|  \"NULL\"|2014-06-28 08:00:00|  \"REGULAR\"|      4679707|    1591296|\n",
      "|\"A002\"|\"R051\"|\"02-00-00\"| \"NULL\"|  \"NULL\"|  \"NULL\"|2014-06-28 12:00:00|  \"REGULAR\"|      4680003|    1591342|\n",
      "+------+------+----------+-------+--------+--------+-------------------+-----------+-------------+-----------+\n",
      "only showing top 5 rows\n",
      "\n"
     ]
    }
   ],
   "source": [
    "subway.show(5)"
   ]
  },
  {
   "cell_type": "code",
   "execution_count": 11,
   "metadata": {
    "collapsed": true
   },
   "outputs": [],
   "source": [
    "subway = subway.repartition(16, 'ca', 'unit', 'scp').sortWithinPartitions('ca', 'unit', 'scp', 'endtime')\n",
    "subway.write.parquet('/data/subway_repartitioned.parquet', compression='snappy', mode='overwrite')"
   ]
  },
  {
   "cell_type": "code",
   "execution_count": null,
   "metadata": {
    "collapsed": true
   },
   "outputs": [],
   "source": []
  },
  {
   "cell_type": "code",
   "execution_count": 64,
   "metadata": {
    "collapsed": true
   },
   "outputs": [],
   "source": [
    "taxi = spark.read.parquet('/bigdata/all_trips.parquet')"
   ]
  },
  {
   "cell_type": "code",
   "execution_count": 65,
   "metadata": {
    "collapsed": false,
    "scrolled": false
   },
   "outputs": [
    {
     "name": "stdout",
     "output_type": "stream",
     "text": [
      "+-------------+----------------+----------------+------------------+-------------------+---------+-----+-----------+---------------------+-------+---------------+------------+------------+----------------+---------------+------------------+------------------+------------+------------------+----------+------------+------------+-------------+---------+---------+\n",
      "|dropoff_ct_id|dropoff_datetime|dropoff_latitude| dropoff_longitude|dropoff_taxizone_id|ehail_fee|extra|fare_amount|improvement_surcharge|mta_tax|passenger_count|payment_type|pickup_ct_id| pickup_datetime|pickup_latitude|  pickup_longitude|pickup_taxizone_id|rate_code_id|store_and_fwd_flag|tip_amount|tolls_amount|total_amount|trip_distance|trip_type|vendor_id|\n",
      "+-------------+----------------+----------------+------------------+-------------------+---------+-----+-----------+---------------------+-------+---------------+------------+------------+----------------+---------------+------------------+------------------+------------+------------------+----------+------------+------------+-------------+---------+---------+\n",
      "|        902.0|1376699020000000|       40.760246|-73.98749999999998|              230.0|     null|  0.5|       35.5|                 null|    0.5|              2|       \"CSH\"|      1840.0|1376697322000000|      40.774085|        -73.874849|             138.0|           1|               \"N\"|       0.0|        5.33|       41.83|         12.0| \"yellow\"|    \"CMT\"|\n",
      "|       1305.0|1376851512000000|       40.794714|-73.96443999999998|              151.0|     null|  0.0|        9.5|                 null|    0.5|              3|       \"CSH\"|      1336.0|1376850861000000|      40.805403|-73.93907799999998|              74.0|           1|               \"N\"|       0.0|         0.0|        10.0|          2.0| \"yellow\"|    \"CMT\"|\n",
      "|       1163.0|1376336690000000|        40.75995|-73.99342699999998|               48.0|     null|  1.0|        5.5|                 null|    0.5|              1|       \"CSH\"|      1347.0|1376336434000000|      40.772732|-73.98290199999998|             142.0|           1|               \"N\"|       0.0|         0.0|         7.0|          1.0| \"yellow\"|    \"CMT\"|\n",
      "|       1885.0|1376352820000000|       40.750895|        -73.982726|              170.0|     null|  0.5|       16.0|                 null|    0.5|              2|       \"CSH\"|      1359.0|1376351761000000|      40.740276|        -74.005972|             158.0|           1|               \"N\"|       0.0|         0.0|        17.0|          4.0| \"yellow\"|    \"CMT\"|\n",
      "|       1953.0|1376699054000000|       40.770427|        -73.953933|              140.0|     null|  0.5|        7.0|                 null|    0.5|              1|       \"CSH\"|        14.0|1376698677000000|      40.756946|-73.96894899999998|             229.0|           1|               \"N\"|       0.0|         0.0|         8.0|          1.0| \"yellow\"|    \"CMT\"|\n",
      "+-------------+----------------+----------------+------------------+-------------------+---------+-----+-----------+---------------------+-------+---------------+------------+------------+----------------+---------------+------------------+------------------+------------+------------------+----------+------------+------------+-------------+---------+---------+\n",
      "only showing top 5 rows\n",
      "\n"
     ]
    }
   ],
   "source": [
    "taxi.show(5)"
   ]
  },
  {
   "cell_type": "code",
   "execution_count": 66,
   "metadata": {
    "collapsed": false
   },
   "outputs": [],
   "source": [
    "taxi = \\\n",
    "    taxi.withColumn('dropoff_datetime', \n",
    "                    funcs.from_unixtime((taxi.dropoff_datetime/1000000).cast(types.IntegerType())).cast(types.TimestampType())) \\\n",
    "    .withColumn('pickup_datetime', \n",
    "                    funcs.from_unixtime((taxi.pickup_datetime/1000000).cast(types.IntegerType())).cast(types.TimestampType())) \\\n",
    "    .withColumn('dropoff_ct_id', taxi.dropoff_ct_id.cast(types.IntegerType())) \\\n",
    "    .withColumn('pickup_ct_id', taxi.pickup_ct_id.cast(types.IntegerType())) \\\n",
    "    .withColumn('dropoff_taxizone_id', taxi.dropoff_taxizone_id.cast(types.IntegerType())) \\\n",
    "    .withColumn('pickup_taxizone_id', taxi.pickup_taxizone_id.cast(types.IntegerType())) \\\n",
    "    .withColumn('dropoff_latitude', taxi.dropoff_latitude.cast(types.FloatType())) \\\n",
    "    .withColumn('dropoff_longitude', taxi.dropoff_longitude.cast(types.FloatType())) \\\n",
    "    .withColumn('ehail_fee', taxi.ehail_fee.cast(types.FloatType())) \\\n",
    "    .withColumn('extra', taxi.extra.cast(types.FloatType())) \\\n",
    "    .withColumn('fare_amount', taxi.fare_amount.cast(types.FloatType())) \\\n",
    "    .withColumn('improvement_surcharge', taxi.improvement_surcharge.cast(types.FloatType())) \\\n",
    "    .withColumn('mta_tax', taxi.mta_tax.cast(types.FloatType())) \\\n",
    "    .withColumn('pickup_latitude', taxi.pickup_latitude.cast(types.FloatType())) \\\n",
    "    .withColumn('pickup_longitude', taxi.pickup_longitude.cast(types.FloatType())) \\\n",
    "    .withColumn('tip_amount', taxi.tip_amount.cast(types.FloatType())) \\\n",
    "    .withColumn('tolls_amount', taxi.tolls_amount.cast(types.FloatType())) \\\n",
    "    .withColumn('total_amount', taxi.total_amount.cast(types.FloatType())) \\\n",
    "    .withColumn('trip_distance', taxi.trip_distance.cast(types.FloatType())) \\\n",
    "    .withColumn('passenger_count', taxi.passenger_count.cast(types.IntegerType())) \\\n",
    "    .withColumn('rate_code_id', taxi.rate_code_id.cast(types.IntegerType())) \\\n",
    "    .withColumn('trip_id', funcs.monotonically_increasing_id())"
   ]
  },
  {
   "cell_type": "code",
   "execution_count": 67,
   "metadata": {
    "collapsed": false
   },
   "outputs": [
    {
     "name": "stdout",
     "output_type": "stream",
     "text": [
      "+-------------+--------------------+----------------+-----------------+-------------------+---------+-----+-----------+---------------------+-------+---------------+------------+------------+--------------------+---------------+----------------+------------------+------------+------------------+----------+------------+------------+-------------+---------+---------+-------+\n",
      "|dropoff_ct_id|    dropoff_datetime|dropoff_latitude|dropoff_longitude|dropoff_taxizone_id|ehail_fee|extra|fare_amount|improvement_surcharge|mta_tax|passenger_count|payment_type|pickup_ct_id|     pickup_datetime|pickup_latitude|pickup_longitude|pickup_taxizone_id|rate_code_id|store_and_fwd_flag|tip_amount|tolls_amount|total_amount|trip_distance|trip_type|vendor_id|trip_id|\n",
      "+-------------+--------------------+----------------+-----------------+-------------------+---------+-----+-----------+---------------------+-------+---------------+------------+------------+--------------------+---------------+----------------+------------------+------------+------------------+----------+------------+------------+-------------+---------+---------+-------+\n",
      "|          902|2013-08-16 20:23:...|       40.760246|         -73.9875|                230|     null|  0.5|       35.5|                 null|    0.5|              2|       \"CSH\"|        1840|2013-08-16 19:55:...|      40.774086|       -73.87485|               138|           1|               \"N\"|       0.0|        5.33|       41.83|         12.0| \"yellow\"|    \"CMT\"|      0|\n",
      "|         1305|2013-08-18 14:45:...|       40.794716|        -73.96444|                151|     null|  0.0|        9.5|                 null|    0.5|              3|       \"CSH\"|        1336|2013-08-18 14:34:...|      40.805405|       -73.93908|                74|           1|               \"N\"|       0.0|         0.0|        10.0|          2.0| \"yellow\"|    \"CMT\"|      1|\n",
      "|         1163|2013-08-12 15:44:...|        40.75995|        -73.99342|                 48|     null|  1.0|        5.5|                 null|    0.5|              1|       \"CSH\"|        1347|2013-08-12 15:40:...|       40.77273|        -73.9829|               142|           1|               \"N\"|       0.0|         0.0|         7.0|          1.0| \"yellow\"|    \"CMT\"|      2|\n",
      "|         1885|2013-08-12 20:13:...|       40.750896|        -73.98273|                170|     null|  0.5|       16.0|                 null|    0.5|              2|       \"CSH\"|        1359|2013-08-12 19:56:...|      40.740276|      -74.005974|               158|           1|               \"N\"|       0.0|         0.0|        17.0|          4.0| \"yellow\"|    \"CMT\"|      3|\n",
      "|         1953|2013-08-16 20:24:...|       40.770428|        -73.95393|                140|     null|  0.5|        7.0|                 null|    0.5|              1|       \"CSH\"|          14|2013-08-16 20:17:...|      40.756947|       -73.96895|               229|           1|               \"N\"|       0.0|         0.0|         8.0|          1.0| \"yellow\"|    \"CMT\"|      4|\n",
      "+-------------+--------------------+----------------+-----------------+-------------------+---------+-----+-----------+---------------------+-------+---------------+------------+------------+--------------------+---------------+----------------+------------------+------------+------------------+----------+------------+------------+-------------+---------+---------+-------+\n",
      "only showing top 5 rows\n",
      "\n"
     ]
    }
   ],
   "source": [
    "taxi.show(5)"
   ]
  },
  {
   "cell_type": "code",
   "execution_count": 68,
   "metadata": {
    "collapsed": false
   },
   "outputs": [],
   "source": [
    "taxi.repartition('pickup_taxizone_id').sortWithinPartitions('pickup_datetime') \\\n",
    "    .write.partitionBy('pickup_taxizone_id') \\\n",
    "    .parquet('/data/all_trips_repartitioned.parquet', compression='snappy', mode='overwrite')"
   ]
  },
  {
   "cell_type": "code",
   "execution_count": null,
   "metadata": {
    "collapsed": true
   },
   "outputs": [],
   "source": []
  }
 ],
 "metadata": {
  "anaconda-cloud": {},
  "kernelspec": {
   "display_name": "Python [default]",
   "language": "python",
   "name": "python3"
  },
  "language_info": {
   "codemirror_mode": {
    "name": "ipython",
    "version": 3
   },
   "file_extension": ".py",
   "mimetype": "text/x-python",
   "name": "python",
   "nbconvert_exporter": "python",
   "pygments_lexer": "ipython3",
   "version": "3.5.2"
  }
 },
 "nbformat": 4,
 "nbformat_minor": 1
}
